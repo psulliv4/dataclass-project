{
 "cells": [
  {
   "cell_type": "markdown",
   "metadata": {
    "colab_type": "text",
    "id": "JPK106ZH832q"
   },
   "source": [
    "# Conservative Sources\n",
    "\n"
   ]
  },
  {
   "cell_type": "code",
   "execution_count": null,
   "metadata": {
    "colab": {
     "base_uri": "https://localhost:8080/",
     "height": 71
    },
    "colab_type": "code",
    "id": "2WVE-maUmXq2",
    "outputId": "79cb658a-c2b5-49d8-9027-0a5d671617b1"
   },
   "outputs": [],
   "source": [
    "import pandas as pd\n",
    "import requests\n",
    "\n",
    "url_fox1 = ('http://newsapi.org/v2/everything?'\n",
    "       'q=primary&'\n",
    "       'sources=fox-news&'\n",
    "       'pageSize=100&'\n",
    "       'sortBy=popularity&'\n",
    "       'from=2020-02-24&'\n",
    "       'to=2020-03-24&'\n",
    "       'apiKey=dfb5e6075cc043b687b45876d6be0561')\n",
    "\n",
    "response_fox1 = requests.get(url_fox1)\n",
    "\n",
    "#print(response_fox1.content)\n",
    "\n",
    "url_fox2 = ('http://newsapi.org/v2/everything?'\n",
    "       'q=virus&'\n",
    "       'sources=fox-news&'\n",
    "        'pageSize=100&'\n",
    "       'sortBy=popularity&'\n",
    "       'from=2020-02-24&'\n",
    "       'to=2020-03-24&'\n",
    "       'apiKey=dfb5e6075cc043b687b45876d6be0561')\n",
    "\n",
    "response_fox2 = requests.get(url_fox2)\n",
    "\n",
    "#response_fox2.content"
   ]
  },
  {
   "cell_type": "code",
   "execution_count": null,
   "metadata": {
    "colab": {
     "base_uri": "https://localhost:8080/",
     "height": 88
    },
    "colab_type": "code",
    "id": "QQOA-qUG6Zn2",
    "outputId": "bc72df54-55f4-484a-91bf-79e9f833629c"
   },
   "outputs": [],
   "source": [
    "url_nreview1 = ('http://newsapi.org/v2/everything?'\n",
    "       'q=primary&'\n",
    "       'sources=national-review&'\n",
    "        'pageSize=100&'\n",
    "       'sortBy=popularity&'\n",
    "       'from=2020-02-24&'\n",
    "       'to=2020-03-24&'\n",
    "       'apiKey=dfb5e6075cc043b687b45876d6be0561')\n",
    "\n",
    "response_nreview1 = requests.get(url_nreview1)\n",
    "\n",
    "#print(response_nreview1.content)\n",
    "\n",
    "url_nreview2 = ('http://newsapi.org/v2/everything?'\n",
    "       'q=virus&'\n",
    "       'sources=national-review&'\n",
    "        'pageSize=100&'\n",
    "       'sortBy=popularity&'\n",
    "       'from=2020-02-24&'\n",
    "       'to=2020-03-24&'\n",
    "       'apiKey=dfb5e6075cc043b687b45876d6be0561')\n",
    "\n",
    "response_nreview2 = requests.get(url_nreview2)\n",
    "\n",
    "#print(response_nreview2.content)\n",
    "\n",
    "url_nreview3 = ('http://newsapi.org/v2/everything?'\n",
    "       'q=what&'\n",
    "       'sources=national-review&'\n",
    "        'pageSize=100&'\n",
    "       'sortBy=popularity&'\n",
    "       'from=2020-02-24&'\n",
    "       'to=2020-03-24&'\n",
    "       'apiKey=dfb5e6075cc043b687b45876d6be0561')\n",
    "\n",
    "response_nreview3 = requests.get(url_nreview3)\n",
    "\n",
    "#response_nreview3.content"
   ]
  },
  {
   "cell_type": "code",
   "execution_count": null,
   "metadata": {
    "colab": {
     "base_uri": "https://localhost:8080/",
     "height": 71
    },
    "colab_type": "code",
    "id": "HGgmVNLT7Pk2",
    "outputId": "21328221-eabd-4983-862b-8188e4fc645d"
   },
   "outputs": [],
   "source": [
    "url_bart1 = ('http://newsapi.org/v2/everything?'\n",
    "       'q=virus&'\n",
    "       'sources=breitbart-news&'\n",
    "        'pageSize=100&'\n",
    "       'sortBy=popularity&'\n",
    "       'from=2020-02-24&'\n",
    "       'to=2020-03-24&'\n",
    "       'apiKey=dfb5e6075cc043b687b45876d6be0561')\n",
    "\n",
    "response_bart1 = requests.get(url_bart1)\n",
    "\n",
    "#print(response_bart1.content)\n",
    "\n",
    "url_bart2 = ('http://newsapi.org/v2/everything?'\n",
    "       'q=primary&'\n",
    "       'sources=breitbart-news&'\n",
    "        'pageSize=100&'\n",
    "       'sortBy=popularity&'\n",
    "       'from=2020-02-24&'\n",
    "       'to=2020-03-24&'\n",
    "       'apiKey=dfb5e6075cc043b687b45876d6be0561')\n",
    "\n",
    "response_bart2 = requests.get(url_bart2)\n",
    "\n",
    "#response_bart2.content"
   ]
  },
  {
   "cell_type": "markdown",
   "metadata": {
    "colab_type": "text",
    "id": "8TuNe--_8yea"
   },
   "source": [
    "# Liberal Sources"
   ]
  },
  {
   "cell_type": "code",
   "execution_count": null,
   "metadata": {
    "colab": {
     "base_uri": "https://localhost:8080/",
     "height": 71
    },
    "colab_type": "code",
    "id": "qV-NlflP8xAt",
    "outputId": "8669e4f6-6920-4929-c689-f5a3f7a8fab1"
   },
   "outputs": [],
   "source": [
    "url_vice1 = ('http://newsapi.org/v2/everything?'\n",
    "       'q=virus&'\n",
    "       'sources=vice-news&'\n",
    "        'pageSize=100&'\n",
    "       'sortBy=popularity&'\n",
    "       'from=2020-02-24&'\n",
    "       'to=2020-03-24&'\n",
    "       'apiKey=dfb5e6075cc043b687b45876d6be0561')\n",
    "\n",
    "response_vice1 = requests.get(url_vice1)\n",
    "\n",
    "#print(response_vice1.content)\n",
    "\n",
    "url_vice2 = ('http://newsapi.org/v2/everything?'\n",
    "       'q=what&'\n",
    "       'sources=vice-news&'\n",
    "        'pageSize=100&'\n",
    "       'sortBy=popularity&'\n",
    "       'from=2020-02-24&'\n",
    "       'to=2020-03-24&'\n",
    "       'apiKey=dfb5e6075cc043b687b45876d6be0561')\n",
    "\n",
    "response_vice2 = requests.get(url_vice2)\n",
    "\n",
    "#print(response_vice2.content)"
   ]
  },
  {
   "cell_type": "code",
   "execution_count": null,
   "metadata": {
    "colab": {
     "base_uri": "https://localhost:8080/",
     "height": 88
    },
    "colab_type": "code",
    "id": "SobKN6njAU01",
    "outputId": "d1f43a4f-b195-42f4-8e03-266acdb72a84"
   },
   "outputs": [],
   "source": [
    "url_msnbc1 = ('http://newsapi.org/v2/everything?'\n",
    "       'q=virus&'\n",
    "       'sources=msnbc&'\n",
    "        'pageSize=100&'\n",
    "       'sortBy=popularity&'\n",
    "       'from=2020-02-24&'\n",
    "       'to=2020-03-24&'\n",
    "       'apiKey=dfb5e6075cc043b687b45876d6be0561')\n",
    "\n",
    "response_msnbc1 = requests.get(url_msnbc1)\n",
    "\n",
    "#print(response_msnbc1.content)\n",
    "\n",
    "url_msnbc2 = ('http://newsapi.org/v2/everything?'\n",
    "       'q=what&'\n",
    "       'sources=msnbc&'\n",
    "        'pageSize=100&'\n",
    "       'sortBy=popularity&'\n",
    "       'from=2020-02-24&'\n",
    "       'to=2020-03-24&'\n",
    "       'apiKey=dfb5e6075cc043b687b45876d6be0561')\n",
    "\n",
    "response_msnbc2 = requests.get(url_msnbc2)\n",
    "\n",
    "#print(response_msnbc2.content)\n",
    "\n",
    "url_msnbc3 = ('http://newsapi.org/v2/everything?'\n",
    "       'q=primary&'\n",
    "       'sources=msnbc&'\n",
    "        'pageSize=100&'\n",
    "       'sortBy=popularity&'\n",
    "       'from=2020-02-24&'\n",
    "       'to=2020-03-24&'\n",
    "       'apiKey=dfb5e6075cc043b687b45876d6be0561')\n",
    "\n",
    "response_msnbc3 = requests.get(url_msnbc3)\n",
    "\n",
    "#print(response_msnbc3.content)"
   ]
  },
  {
   "cell_type": "code",
   "execution_count": null,
   "metadata": {
    "colab": {
     "base_uri": "https://localhost:8080/",
     "height": 88
    },
    "colab_type": "code",
    "id": "b-kC7Wi1BcZO",
    "outputId": "c5612edc-7f53-4ea9-ad2a-1ea07555a515"
   },
   "outputs": [],
   "source": [
    "url_buzz1 = ('http://newsapi.org/v2/everything?'\n",
    "       'q=virus&'\n",
    "       'sources=buzzfeed&'\n",
    "        'pageSize=100&'\n",
    "       'sortBy=popularity&'\n",
    "       'from=2020-02-24&'\n",
    "       'to=2020-03-24&'\n",
    "       'apiKey=dfb5e6075cc043b687b45876d6be0561')\n",
    "\n",
    "response_buzz1 = requests.get(url_buzz1)\n",
    "\n",
    "#print(response_buzz1.content)\n",
    "\n",
    "url_buzz2 = ('http://newsapi.org/v2/everything?'\n",
    "       'q=primary&'\n",
    "       'sources=buzzfeed&'\n",
    "        'pageSize=100&'\n",
    "       'sortBy=popularity&'\n",
    "       'from=2020-02-24&'\n",
    "       'to=2020-03-24&'\n",
    "       'apiKey=dfb5e6075cc043b687b45876d6be0561')\n",
    "\n",
    "response_buzz2 = requests.get(url_buzz2)\n",
    "\n",
    "#print(response_buzz2.content)\n",
    "\n",
    "url_buzz3 = ('http://newsapi.org/v2/everything?'\n",
    "       'q=news&'\n",
    "       'sources=buzzfeed&'\n",
    "        'pageSize=100&'\n",
    "       'sortBy=popularity&'\n",
    "       'from=2020-02-24&'\n",
    "       'to=2020-03-24&'\n",
    "       'apiKey=dfb5e6075cc043b687b45876d6be0561')\n",
    "\n",
    "response_buzz3 = requests.get(url_buzz3)\n",
    "\n",
    "#print(response_buzz3.content)"
   ]
  },
  {
   "cell_type": "markdown",
   "metadata": {
    "colab_type": "text",
    "id": "8l1twfXjCGPb"
   },
   "source": [
    "# Neutral Sources\n",
    "\n"
   ]
  },
  {
   "cell_type": "code",
   "execution_count": null,
   "metadata": {
    "colab": {
     "base_uri": "https://localhost:8080/",
     "height": 71
    },
    "colab_type": "code",
    "id": "6A2Yz537CFSE",
    "outputId": "1b5ae6e9-1ef6-4014-9a5a-11251a40555b"
   },
   "outputs": [],
   "source": [
    "url_cbs1 = ('http://newsapi.org/v2/everything?'\n",
    "       'q=virus&'\n",
    "       'sources=cbs-news&'\n",
    "        'pageSize=100&'\n",
    "       'sortBy=popularity&'\n",
    "       'from=2020-02-24&'\n",
    "       'to=2020-03-24&'\n",
    "       'apiKey=dfb5e6075cc043b687b45876d6be0561')\n",
    "\n",
    "response_cbs1 = requests.get(url_cbs1)\n",
    "\n",
    "#print(response_cbs1.content)\n",
    "\n",
    "url_cbs2 = ('http://newsapi.org/v2/everything?'\n",
    "       'q=primary&'\n",
    "       'sources=cbs-news&'\n",
    "        'pageSize=100&'\n",
    "       'sortBy=popularity&'\n",
    "       'from=2020-02-24&'\n",
    "       'to=2020-03-24&'\n",
    "       'apiKey=dfb5e6075cc043b687b45876d6be0561')\n",
    "\n",
    "response_cbs2 = requests.get(url_cbs2)\n",
    "\n",
    "#print(response_cbs2.content)"
   ]
  },
  {
   "cell_type": "code",
   "execution_count": null,
   "metadata": {
    "colab": {
     "base_uri": "https://localhost:8080/",
     "height": 71
    },
    "colab_type": "code",
    "id": "TDtcr4HpLPgv",
    "outputId": "dafadac0-e331-4c2a-8790-e4e3219a229c"
   },
   "outputs": [],
   "source": [
    "url_hill1 = ('http://newsapi.org/v2/everything?'\n",
    "       'q=primary&'\n",
    "       'sources=the-hill&'\n",
    "        'pageSize=100&'\n",
    "       'sortBy=popularity&'\n",
    "       'from=2020-02-24&'\n",
    "       'to=2020-03-24&'\n",
    "       'apiKey=dfb5e6075cc043b687b45876d6be0561')\n",
    "\n",
    "response_hill1 = requests.get(url_hill1)\n",
    "\n",
    "#print(response_hill1.content)\n",
    "\n",
    "url_hill2 = ('http://newsapi.org/v2/everything?'\n",
    "       'q=virus&'\n",
    "       'sources=the-hill&'\n",
    "        'pageSize=100&'\n",
    "       'sortBy=popularity&'\n",
    "       'from=2020-02-24&'\n",
    "       'to=2020-03-24&'\n",
    "       'apiKey=dfb5e6075cc043b687b45876d6be0561')\n",
    "\n",
    "response_hill2 = requests.get(url_hill2)\n",
    "\n",
    "#print(response_hill2.content)"
   ]
  },
  {
   "cell_type": "code",
   "execution_count": null,
   "metadata": {
    "colab": {
     "base_uri": "https://localhost:8080/",
     "height": 71
    },
    "colab_type": "code",
    "id": "3_lcHrwmLoGE",
    "outputId": "977c2fac-41ef-4c23-92fb-ee8a644c85ae"
   },
   "outputs": [],
   "source": [
    "url_reuters1 = ('http://newsapi.org/v2/everything?'\n",
    "       'q=primary&'\n",
    "       'sources=reuters&'\n",
    "        'pageSize=100&'\n",
    "       'sortBy=popularity&'\n",
    "       'from=2020-02-24&'\n",
    "       'to=2020-03-24&'\n",
    "       'apiKey=dfb5e6075cc043b687b45876d6be0561')\n",
    "\n",
    "response_reuters1 = requests.get(url_reuters1)\n",
    "\n",
    "#print(response_reuters1.content)\n",
    "\n",
    "url_reuters2 = ('http://newsapi.org/v2/everything?'\n",
    "       'q=trump&'\n",
    "       'sources=reuters&'\n",
    "       'pageSize=100&'\n",
    "       'sortBy=popularity&'\n",
    "       'from=2020-03-15&'\n",
    "       'to=2020-03-24&'\n",
    "       'apiKey=dfb5e6075cc043b687b45876d6be0561')\n",
    "\n",
    "response_reuters2 = requests.get(url_reuters2)\n",
    "\n",
    "#print(response_reuters2.content)\n",
    "# response_reuters2.json()"
   ]
  },
  {
   "cell_type": "markdown",
   "metadata": {
    "colab_type": "text",
    "id": "Z7T04boIMGx_"
   },
   "source": [
    "# Decoding and Converting to JSON"
   ]
  },
  {
   "cell_type": "code",
   "execution_count": null,
   "metadata": {
    "colab": {
     "base_uri": "https://localhost:8080/",
     "height": 479
    },
    "colab_type": "code",
    "id": "gd5YejjpvSXR",
    "outputId": "95e282d1-f8f9-460c-d0ef-0564e924b91b"
   },
   "outputs": [],
   "source": [
    "# response_fox1\n",
    "# response_fox2\n",
    "# response_bart1\n",
    "# response_bart2\n",
    "# response_nreview1\n",
    "# response_nreview2\n",
    "# response_nreview3\n",
    "\n",
    "print('Conservative sources, 1 partisan right, 2 skew right')\n",
    "response_fox1_d = response_fox1.content.decode(\"utf-8\")\n",
    "print(response_fox1_d)\n",
    "response_fox2_d = response_fox2.content.decode(\"utf-8\")\n",
    "print(response_fox2_d)\n",
    "\n",
    "response_bart1_d = response_bart1.content.decode(\"utf-8\")\n",
    "#print(response_bart1_d)\n",
    "response_bart2_d = response_bart2.content.decode(\"utf-8\")\n",
    "#print(response_bart2_d)\n",
    "\n",
    "response_nreview1_d = response_nreview1.content.decode(\"utf-8\")\n",
    "#print(response_nreview1_d)\n",
    "response_nreview2_d = response_nreview2.content.decode(\"utf-8\")\n",
    "#print(response_nreview2_d)\n",
    "response_nreview3_d = response_nreview3.content.decode(\"utf-8\")\n",
    "#print(response_nreview3_d)\n",
    "\n",
    "\n",
    "# response_vice1\n",
    "# response_vice2\n",
    "# response_msnbc1\n",
    "# response_msnbc2\n",
    "# response_msnbc3\n",
    "# response_buzz1\n",
    "# response_buzz2\n",
    "# response_buzz3\n",
    "\n",
    "print('Liberal sources, 1 partisan left, 2 skew left')\n",
    "response_vice1_d = response_vice1.content.decode(\"utf-8\")\n",
    "#print(response_vice1_d)\n",
    "response_vice2_d = response_vice2.content.decode(\"utf-8\")\n",
    "#print(response_vice2_d)\n",
    "\n",
    "response_msnbc1_d = response_msnbc1.content.decode(\"utf-8\")\n",
    "#print(response_msnbc1_d)\n",
    "response_msnbc2_d = response_msnbc2.content.decode(\"utf-8\")\n",
    "#print(response_msnbc2_d)\n",
    "response_msnbc3_d = response_msnbc3.content.decode(\"utf-8\")\n",
    "#print(response_msnbc3_d)\n",
    "\n",
    "response_buzz1_d = response_buzz1.content.decode(\"utf-8\")\n",
    "#print(response_buzz1_d)\n",
    "response_buzz2_d = response_buzz2.content.decode(\"utf-8\")\n",
    "#print(response_buzz2_d)\n",
    "response_buzz3_d = response_buzz3.content.decode(\"utf-8\")\n",
    "#print(response_buzz3_d)\n",
    "\n",
    "\n",
    "\n",
    "# response_hill1\n",
    "# response_hill2\n",
    "# response_reuters1\n",
    "# response_reuters2\n",
    "# response_cbs1\n",
    "# response_cbs2\n",
    "\n",
    "print('Neutral sources')\n",
    "response_hill1_d = response_hill1.content.decode(\"utf-8\")\n",
    "#print(response_hill1_d)\n",
    "response_hill2_d = response_hill2.content.decode(\"utf-8\")\n",
    "#print(response_hill2_d)\n",
    "\n",
    "response_reuters1_d = response_reuters1.content.decode(\"utf-8\")\n",
    "#print(response_reuters1_d)\n",
    "response_reuters2_d = response_reuters2.content.decode(\"utf-8\")\n",
    "#print(response_reuters2_d)\n",
    "\n",
    "response_cbs1_d = response_cbs1.content.decode(\"utf-8\")\n",
    "#print(response_cbs1_d)\n",
    "response_cbs2_d = response_cbs2.content.decode(\"utf-8\")\n",
    "#print(response_cbs2_d)\n",
    "\n",
    "\n",
    "\n",
    "\n",
    "\n",
    "print(type(response_cbs2))\n",
    "type(response_cbs2_d)"
   ]
  },
  {
   "cell_type": "code",
   "execution_count": null,
   "metadata": {
    "colab": {},
    "colab_type": "code",
    "id": "QTqEDn8XqMQs"
   },
   "outputs": [],
   "source": [
    "import json\n",
    "# response_1x = json.loads(response_1)\n",
    "# print(type(response_1x))\n",
    "# # print(response_1x)\n",
    "# response_1x['articles']\n",
    "\n",
    "\n",
    "\n",
    "#conservative\n",
    "response_fox1_j = json.loads(response_fox1_d)\n",
    "# response_fox1_j['articles']\n",
    "# response_fox1_j\n",
    "response_fox2_j = json.loads(response_fox2_d)\n",
    "\n",
    "\n",
    "response_bart1_j = json.loads(response_bart1_d)\n",
    "response_bart2_j = json.loads(response_bart2_d)\n",
    "\n",
    "response_nreview1_j = json.loads(response_nreview1_d)\n",
    "response_nreview2_j = json.loads(response_nreview2_d)\n",
    "response_nreview3_j = json.loads(response_nreview3_d)\n",
    "\n",
    "#liberal\n",
    "response_vice1_j = json.loads(response_vice1_d)\n",
    "response_vice2_j = json.loads(response_vice2_d)\n",
    "\n",
    "response_msnbc1_j = json.loads(response_msnbc1_d)\n",
    "response_msnbc2_j = json.loads(response_msnbc2_d)\n",
    "response_msnbc3_j = json.loads(response_msnbc3_d)\n",
    "\n",
    "response_buzz1_j = json.loads(response_buzz1_d)\n",
    "response_buzz2_j = json.loads(response_buzz2_d)\n",
    "response_buzz3_j = json.loads(response_buzz3_d)\n",
    "\n",
    "\n",
    "#neutral\n",
    "response_hill1_j = json.loads(response_hill1_d)\n",
    "response_hill2_j = json.loads(response_hill2_d)\n",
    "\n",
    "response_reuters1_j = json.loads(response_reuters1_d)\n",
    "response_reuters2_j = json.loads(response_reuters2_d)\n",
    "\n",
    "response_cbs1_j = json.loads(response_cbs1_d)\n",
    "response_cbs2_j = json.loads(response_cbs2_d)"
   ]
  },
  {
   "cell_type": "markdown",
   "metadata": {
    "colab_type": "text",
    "id": "rjT74B06hv_K"
   },
   "source": [
    "# Converting JSON to pandas Dataframe"
   ]
  },
  {
   "cell_type": "code",
   "execution_count": null,
   "metadata": {
    "colab": {
     "base_uri": "https://localhost:8080/",
     "height": 1000
    },
    "colab_type": "code",
    "id": "y_CbPYqQqMcE",
    "outputId": "78e1a33a-9774-41c4-df5a-baff59b11e5c"
   },
   "outputs": [],
   "source": [
    "# df = pd.DataFrame(response_1x['articles'])\n",
    "# df\n",
    "\n",
    "#conservative df's\n",
    "df_fox1 = pd.DataFrame(response_fox1_j['articles'])\n",
    "df_fox1\n",
    "df_fox2 = pd.DataFrame(response_fox2_j['articles'])\n",
    "df_fox2\n",
    "\n",
    "\n",
    "df_bart1 = pd.DataFrame(response_bart1_j['articles'])\n",
    "df_bart1\n",
    "df_bart2 = pd.DataFrame(response_bart2_j['articles'])\n",
    "df_bart2\n",
    " \n",
    "\n",
    "df_nreview1 = pd.DataFrame(response_nreview1_j['articles'])\n",
    "df_nreview1\n",
    "df_nreview2 = pd.DataFrame(response_nreview2_j['articles'])\n",
    "df_nreview2\n",
    "df_nreview3 = pd.DataFrame(response_nreview3_j['articles'])\n",
    "df_nreview3\n",
    "\n",
    "\n",
    "# #liberal\n",
    "\n",
    "df_vice1 = pd.DataFrame(response_vice1_j['articles'])\n",
    "df_vice1\n",
    "df_vice2 = pd.DataFrame(response_vice2_j['articles'])\n",
    "df_vice2\n",
    "\n",
    "df_msnbc1 = pd.DataFrame(response_msnbc1_j['articles'])\n",
    "df_msnbc1\n",
    "df_msnbc2 = pd.DataFrame(response_msnbc2_j['articles'])\n",
    "df_msnbc2\n",
    "df_msnbc3 = pd.DataFrame(response_msnbc3_j['articles'])\n",
    "df_msnbc3\n",
    "\n",
    "df_buzz1 = pd.DataFrame(response_buzz1_j['articles'])\n",
    "df_buzz1\n",
    "df_buzz2 = pd.DataFrame(response_buzz2_j['articles'])\n",
    "df_buzz2\n",
    "df_buzz3 = pd.DataFrame(response_buzz3_j['articles'])\n",
    "df_buzz3\n",
    "\n",
    "\n",
    "# #neutral\n",
    "df_hill1 = pd.DataFrame(response_hill1_j['articles'])\n",
    "df_hill1\n",
    "df_hill2 = pd.DataFrame(response_hill2_j['articles'])\n",
    "df_hill2\n",
    "\n",
    "df_reuters1 = pd.DataFrame(response_reuters1_j['articles'])\n",
    "df_reuters1\n",
    "df_reuters2 = pd.DataFrame(response_reuters2_j['articles'])\n",
    "df_reuters2\n",
    "\n",
    "df_cbs1 = pd.DataFrame(response_cbs1_j['articles'])\n",
    "df_cbs1\n",
    "df_cbs2 = pd.DataFrame(response_cbs1_j['articles'])\n",
    "df_cbs2\n"
   ]
  },
  {
   "cell_type": "markdown",
   "metadata": {
    "colab_type": "text",
    "id": "47F6gNL1j3Pk"
   },
   "source": [
    "# Merging Dataframes\n"
   ]
  },
  {
   "cell_type": "code",
   "execution_count": null,
   "metadata": {
    "colab": {
     "base_uri": "https://localhost:8080/",
     "height": 1000
    },
    "colab_type": "code",
    "id": "Zu_vrHCFkfSX",
    "outputId": "4d4c8815-7581-4e81-b2f1-29022f9bc9eb"
   },
   "outputs": [],
   "source": [
    "df_allsources = pd.concat([df_fox1, df_fox2, df_bart1, df_bart2, df_nreview1, df_nreview2, df_nreview3,\n",
    "                           df_msnbc1, df_msnbc2, df_msnbc3, df_buzz1, df_buzz2, df_buzz3, df_vice1, df_vice2,\n",
    "                           df_hill1, df_hill2, df_reuters1, df_reuters2, df_cbs1, df_cbs2])\n",
    "df_allsources"
   ]
  },
  {
   "cell_type": "code",
   "execution_count": null,
   "metadata": {
    "colab": {},
    "colab_type": "code",
    "id": "zuJA91HYl8zT"
   },
   "outputs": [],
   "source": [
    "df_allsources.to_csv('newsapi_scrape1.csv', index=False)"
   ]
  },
  {
   "cell_type": "markdown",
   "metadata": {},
   "source": [
    "# Cleaning the Data"
   ]
  },
  {
   "cell_type": "markdown",
   "metadata": {},
   "source": [
    "#### We first had a conversation about which part of the API's we were going to be using. There were news articles that didn't have content, and if it did have content, it wasn't fully there. So going forward with cleaning we decided that we should gather all that we could as far as content wise, and we could decide what to do with it later. "
   ]
  },
  {
   "cell_type": "code",
   "execution_count": 1,
   "metadata": {},
   "outputs": [
    {
     "name": "stdout",
     "output_type": "stream",
     "text": [
      "There are 453 news articles that do not have content\n"
     ]
    }
   ],
   "source": [
    "import pandas as pd\n",
    "import requests\n",
    "\n",
    "MarchNews = pd.read_csv('newsapi_scrape1.csv')\n",
    "#print(MarchNews)\n",
    "\n",
    "Nan = MarchNews['content'].isnull().sum()\n",
    "print(f'There are {Nan} news articles that do not have content')\n",
    "\n",
    "\n",
    "#Replacing Null values with 'None'\n",
    "MarchNews['content'].fillna(\"None\", inplace = True)\n",
    "MarchNews['title'].fillna('None', inplace = True)\n",
    "MarchNews['description'].fillna('None', inplace = True)"
   ]
  },
  {
   "cell_type": "markdown",
   "metadata": {},
   "source": [
    "#### The code underneath is finding all of the distinct words in the content, description, and title columns. Also using the re.findall function we were also able to remove the punctuation from the columns as well. After combing through the data we realized that the last two words were for the number of characters after whatever we had, so we scraped the last two entries in the list."
   ]
  },
  {
   "cell_type": "code",
   "execution_count": 2,
   "metadata": {},
   "outputs": [],
   "source": [
    "import re\n",
    "import nltk\n",
    "from nltk.corpus import stopwords\n",
    "stopwords = nltk.corpus.stopwords.words('english')\n",
    "\n",
    "\n",
    "Content = []\n",
    "Description = []\n",
    "Title = []\n",
    "\n",
    "for i in range(len(MarchNews['content'])):\n",
    "    Content.append(re.findall(r'\\w+', MarchNews['content'][i])[:-2])\n",
    "    Description.append(re.findall(r'\\w+', MarchNews['description'][i]))\n",
    "    Title.append(re.findall(r'\\w+', MarchNews['title'][i]))\n"
   ]
  },
  {
   "cell_type": "markdown",
   "metadata": {},
   "source": [
    "#### The codeblock below is taking out any stopwords, and removing any numbers or unknown symbols."
   ]
  },
  {
   "cell_type": "code",
   "execution_count": 3,
   "metadata": {},
   "outputs": [],
   "source": [
    "# Getting rid of Stopwords\n",
    "\n",
    "for i in range(len(Content)):\n",
    "    # Taking out the Stopwords\n",
    "    Content[i] = [words.lower() for words in Content[i] if words.lower() not in stopwords]\n",
    "    Title[i] = [words.lower() for words in Title[i] if words.lower() not in stopwords]\n",
    "    Description[i] = [words.lower() for words in Description[i] if words.lower() not in stopwords]\n",
    "    \n",
    "    # Taking out the non-string values\n",
    "    Content[i] = [words for words in Content[i] if words.isalpha() == True]\n",
    "    Title[i] = [words for words in Title[i] if words.isalpha() == True]\n",
    "    Description[i] = [words for words in Description[i] if words.isalpha() == True]\n",
    "    \n",
    "#print(Title)"
   ]
  },
  {
   "cell_type": "code",
   "execution_count": 4,
   "metadata": {},
   "outputs": [
    {
     "name": "stdout",
     "output_type": "stream",
     "text": [
      "                                   source author  \\\n",
      "0  {'id': 'fox-news', 'name': 'Fox News'}    NaN   \n",
      "1  {'id': 'fox-news', 'name': 'Fox News'}    NaN   \n",
      "\n",
      "                                               title  \\\n",
      "0  South Carolina primary is do-or-die for Biden ...   \n",
      "1  Sanders supporters react to DNC reportedly att...   \n",
      "\n",
      "                                         description  \\\n",
      "0  Reaction from former White House Chief of Staf...   \n",
      "1  Fox News contributor Lawrence Jones speaks to ...   \n",
      "\n",
      "                                         url  \\\n",
      "0  http://video.foxnews.com/v/6137137518001/   \n",
      "1  http://video.foxnews.com/v/6136724620001/   \n",
      "\n",
      "                                          urlToImage           publishedAt  \\\n",
      "0  https://cf-images.us-east-1.prod.boltdns.net/v...  2020-02-29T02:49:49Z   \n",
      "1  https://cf-images.us-east-1.prod.boltdns.net/v...  2020-02-28T03:43:40Z   \n",
      "\n",
      "  content                                       TitleCleaned  \\\n",
      "0    None   [south, carolina, primary, die, biden, campaign]   \n",
      "1    None  [sanders, supporters, react, dnc, reportedly, ...   \n",
      "\n",
      "                                  DescriptionCleaned ContentCleaned  \n",
      "0  [reaction, former, white, house, chief, staff,...             []  \n",
      "1  [fox, news, contributor, lawrence, jones, spea...             []  \n"
     ]
    }
   ],
   "source": [
    "MarchNews.insert(8,'TitleCleaned', Title)\n",
    "MarchNews.insert(9,'DescriptionCleaned', Description)\n",
    "MarchNews.insert(10,'ContentCleaned', Content)\n",
    "print(MarchNews[0:2])"
   ]
  },
  {
   "cell_type": "code",
   "execution_count": 5,
   "metadata": {},
   "outputs": [
    {
     "name": "stdout",
     "output_type": "stream",
     "text": [
      "<class 'pandas.core.frame.DataFrame'>\n",
      "RangeIndex: 1784 entries, 0 to 1783\n",
      "Data columns (total 11 columns):\n",
      " #   Column              Non-Null Count  Dtype \n",
      "---  ------              --------------  ----- \n",
      " 0   source              1784 non-null   object\n",
      " 1   author              1745 non-null   object\n",
      " 2   title               1784 non-null   object\n",
      " 3   description         1784 non-null   object\n",
      " 4   url                 1784 non-null   object\n",
      " 5   urlToImage          1751 non-null   object\n",
      " 6   publishedAt         1784 non-null   object\n",
      " 7   content             1784 non-null   object\n",
      " 8   TitleCleaned        1784 non-null   object\n",
      " 9   DescriptionCleaned  1784 non-null   object\n",
      " 10  ContentCleaned      1784 non-null   object\n",
      "dtypes: object(11)\n",
      "memory usage: 153.4+ KB\n"
     ]
    }
   ],
   "source": [
    "MarchNews.info()"
   ]
  },
  {
   "cell_type": "markdown",
   "metadata": {},
   "source": [
    "# Get Unique Words"
   ]
  },
  {
   "cell_type": "markdown",
   "metadata": {},
   "source": [
    "#### In order to use a machine learning algrorithm, we first needed to convert our data into a useable format since we can't train an agorithm on words alone. We originally tried to match and count words in an article to a set of predefined, politically loaded words and terms. These polarizing terms included \"death tax\", \"estate tax\", \"pro life\", \"pro choice\", \"gun safety\", \"gun control\", and more. However, we found that matching these terms to news from the last month is not very effective since most of the coverage has been on COVID-19 and the democratic primary. \n",
    "\n",
    "#### We plan on reading through some of the articles and creating a new matrix of words and terms to match to/count in earch article. Before that is done, we first need to prep the data. To do this, we first extracted a list of unique words from each news article. Once we have a new matrix of political words and terms, we can iterate through each list of unique words to see if any of our words of interest appear in that article. If a word appears, we can then iterate through the words in that article to get a word count. The final result of this process would be a matrix where words/phrases make up the columns, and each row represents an article, and the cells would be populated with numbers representing the count of that columns word or phrase in the article. This matrix could then be fed into an algorithm such as SVM, averaged Perceptron, or Logistic Regression. "
   ]
  },
  {
   "cell_type": "code",
   "execution_count": 6,
   "metadata": {},
   "outputs": [],
   "source": [
    "# get unique words for each column\n",
    "uniqueWords = []\n",
    "\n",
    "for i in range(len(MarchNews['ContentCleaned'])):\n",
    "    # create empty lsit each iteration\n",
    "    lst = []\n",
    "    # get all word in title, content, and description\n",
    "    [lst.append(words) for words in MarchNews['TitleCleaned'][i]]\n",
    "    [lst.append(words) for words in MarchNews['ContentCleaned'][i]]\n",
    "    [lst.append(words) for words in MarchNews['DescriptionCleaned'][i]]\n",
    "    #transform list into set of unique words\n",
    "    unique = set(lst)\n",
    "    #assign unique word set to each row or whole df\n",
    "    uniqueWords.append(unique)"
   ]
  },
  {
   "cell_type": "code",
   "execution_count": 7,
   "metadata": {},
   "outputs": [
    {
     "data": {
      "text/html": [
       "<div>\n",
       "<style scoped>\n",
       "    .dataframe tbody tr th:only-of-type {\n",
       "        vertical-align: middle;\n",
       "    }\n",
       "\n",
       "    .dataframe tbody tr th {\n",
       "        vertical-align: top;\n",
       "    }\n",
       "\n",
       "    .dataframe thead th {\n",
       "        text-align: right;\n",
       "    }\n",
       "</style>\n",
       "<table border=\"1\" class=\"dataframe\">\n",
       "  <thead>\n",
       "    <tr style=\"text-align: right;\">\n",
       "      <th></th>\n",
       "      <th>source</th>\n",
       "      <th>author</th>\n",
       "      <th>title</th>\n",
       "      <th>description</th>\n",
       "      <th>url</th>\n",
       "      <th>urlToImage</th>\n",
       "      <th>publishedAt</th>\n",
       "      <th>content</th>\n",
       "      <th>TitleCleaned</th>\n",
       "      <th>DescriptionCleaned</th>\n",
       "      <th>ContentCleaned</th>\n",
       "      <th>uniqueWords</th>\n",
       "    </tr>\n",
       "  </thead>\n",
       "  <tbody>\n",
       "    <tr>\n",
       "      <th>1</th>\n",
       "      <td>{'id': 'fox-news', 'name': 'Fox News'}</td>\n",
       "      <td>NaN</td>\n",
       "      <td>Sanders supporters react to DNC reportedly att...</td>\n",
       "      <td>Fox News contributor Lawrence Jones speaks to ...</td>\n",
       "      <td>http://video.foxnews.com/v/6136724620001/</td>\n",
       "      <td>https://cf-images.us-east-1.prod.boltdns.net/v...</td>\n",
       "      <td>2020-02-28T03:43:40Z</td>\n",
       "      <td>None</td>\n",
       "      <td>[sanders, supporters, react, dnc, reportedly, ...</td>\n",
       "      <td>[fox, news, contributor, lawrence, jones, spea...</td>\n",
       "      <td>[]</td>\n",
       "      <td>{react, sanders, subvert, primary, wanting, no...</td>\n",
       "    </tr>\n",
       "  </tbody>\n",
       "</table>\n",
       "</div>"
      ],
      "text/plain": [
       "                                   source author  \\\n",
       "1  {'id': 'fox-news', 'name': 'Fox News'}    NaN   \n",
       "\n",
       "                                               title  \\\n",
       "1  Sanders supporters react to DNC reportedly att...   \n",
       "\n",
       "                                         description  \\\n",
       "1  Fox News contributor Lawrence Jones speaks to ...   \n",
       "\n",
       "                                         url  \\\n",
       "1  http://video.foxnews.com/v/6136724620001/   \n",
       "\n",
       "                                          urlToImage           publishedAt  \\\n",
       "1  https://cf-images.us-east-1.prod.boltdns.net/v...  2020-02-28T03:43:40Z   \n",
       "\n",
       "  content                                       TitleCleaned  \\\n",
       "1    None  [sanders, supporters, react, dnc, reportedly, ...   \n",
       "\n",
       "                                  DescriptionCleaned ContentCleaned  \\\n",
       "1  [fox, news, contributor, lawrence, jones, spea...             []   \n",
       "\n",
       "                                         uniqueWords  \n",
       "1  {react, sanders, subvert, primary, wanting, no...  "
      ]
     },
     "execution_count": 7,
     "metadata": {},
     "output_type": "execute_result"
    }
   ],
   "source": [
    "# create new row in big DF with unique words\n",
    "MarchNews.insert(11,'uniqueWords', uniqueWords)\n",
    "MarchNews[1:2]"
   ]
  },
  {
   "cell_type": "code",
   "execution_count": 8,
   "metadata": {},
   "outputs": [
    {
     "name": "stdout",
     "output_type": "stream",
     "text": [
      "{'campaign', 'carolina', 'reaction', 'bruce', 'south', 'primary', 'staff', 'die', 'chief', 'white', 'reince', 'fox', 'former', 'tammy', 'house', 'biden', 'contributor', 'priebus', 'news'}\n"
     ]
    }
   ],
   "source": [
    "print(MarchNews['uniqueWords'][0])"
   ]
  },
  {
   "cell_type": "markdown",
   "metadata": {},
   "source": [
    "#### We are also considering comparing the unique words between news sources as a way of training an algorithm. The code below extracts all of the unique words used by each news source.  "
   ]
  },
  {
   "cell_type": "code",
   "execution_count": 9,
   "metadata": {},
   "outputs": [],
   "source": [
    "# group df by source\n",
    "# index numbers--> 0 = Breitbart, 1 = Buzzfeed, 2 = CBS, 3 = Fox, 4 = MSNBC, \n",
    "#                  5 = National-Review, 6 = Reuters, 7 = The Hill, 8 = Vice News \n",
    "uniqueWords_allSources = MarchNews.groupby('source')['uniqueWords'].apply(list)\n",
    "\n",
    "# right\n",
    "breitbart_words = uniqueWords_allSources.iloc[[0]]\n",
    "fox_words = uniqueWords_allSources.iloc[[3]]\n",
    "natReview_words = uniqueWords_allSources.iloc[[5]]\n",
    "\n",
    "# middle\n",
    "cbs_words = uniqueWords_allSources.iloc[[2]]\n",
    "reuters_words = uniqueWords_allSources.iloc[[6]]\n",
    "hill_words = uniqueWords_allSources.iloc[[7]]\n",
    "\n",
    "# left\n",
    "buzzfeed_words = uniqueWords_allSources.iloc[[1]]\n",
    "msnbc_words = uniqueWords_allSources.iloc[[4]]\n",
    "vice_words = uniqueWords_allSources.iloc[[8]]"
   ]
  },
  {
   "cell_type": "code",
   "execution_count": 10,
   "metadata": {},
   "outputs": [
    {
     "name": "stdout",
     "output_type": "stream",
     "text": [
      "{'german', 'energy', 'slowed', 'choices', 'carlo', 'explains', 'spend', 'starters', 'nonsense', 'goofy', 'sony', 'clinic', 'unequal', 'pickles', 'quarantine', 'pandemic', 'credible', 'safety', 'lawmaker', 'star', 'francisco', 'tonight', 'communist', 'canada', 'depression', 'sciencefocus', 'revolution', 'ear', 'brothers', 'chains', 'eat', 'mlb', 'grocery', 'steyer', 'disease', 'plummet', 'institution', 'house', 'etsy', 'theres', 'outside', 'different', 'timeline', 'questioning', 'watc', 'jesús', 'abandoned', 'asked', 'right', 'newsletter', 'johnny', 'like', 'get', 'klaxons', 'palatable', 'poo', 'tough', 'domain', 'company', 'directly', 'nerd', 'plunges', 'mourning', 'drop', 'injected', 'northwest', 'vigorously', 'triggered', 'lung', 'rapper', 'traditions', 'vision', 'family', 'colvin', 'cause', 'bullets', 'human', 'announcement', 'spew', 'language', 'valid', 'employee', 'burq', 'potentially', 'empty', 'cardio', 'japan', 'homes', 'hardware', 'infamous', 'rightly', 'traveling', 'senator', 'car', 'buck', 'utah', 'flamethrowers', 'administration', 'ultrasound', 'song', 'suspend', 'seeking', 'women', 'completely', 'oversees', 'medica', 'photographer', 'kid', 'depicts', 'widespread', 'filled', 'couple', 'porn', 'vapers', 'european', 'national', 'rom', 'shotta', 'climate', 'asking', 'major', 'memorably', 'mgm', 'showing', 'drastic', 'came', 'crucial', 'killed', 'facial', 'leads', 'defense', 'boasting', 'loving', 'albuquerque', 'non', 'exhibition', 'biggest', 'panickingits', 'hoard', 'enough', 'italy', 'means', 'destroys', 'pharmacies', 'partner', 'effects', 'walked', 'achieve', 'highlights', 'chernobyl', 'agencies', 'counties', 'instagram', 'membership', 'stupid', 'discuss', 'sinatra', 'thought', 'phenom', 'google', 'refunds', 'gross', 'claimed', 'imagines', 'spouse', 'sneeze', 'seemed', 'lots', 'sucking', 'supernovas', 'cooking', 'proprietor', 'decades', 'sounds', 'prison', 'signature', 'quickly', 'reportedly', 'geek', 'exhibited', 'switching', 'bargaining', 'compare', 'railings', 'therapists', 'edges', 'included', 'elaborate', 'dumb', 'idea', 'parenthood', 'series', 'beds', 'comic', 'hosp', 'potential', 'sometimes', 'earworm', 'institute', 'threatening', 'golf', 'superstar', 'various', 'jeopardy', 'dances', 'shift', 'political', 'video', 'queens', 'monitored', 'fail', 'jones', 'sudde', 'billy', 'patch', 'pretty', 'microgridding', 'combat', 'settlement', 'raking', 'woods', 'neo', 'story', 'charles', 'failure', 'delicacy', 'transit', 'signs', 'beautiful', 'booze', 'proved', 'underpaid', 'beyond', 'deemed', 'pizza', 'learning', 'veto', 'delay', 'smuggling', 'humble', 'love', 'ongoing', 'jumped', 'outbreaks', 'celebrate', 'p', 'poverty', 'surface', 'lives', 'doorknobs', 'betrayed', 'chinas', 'sars', 'absolutely', 'convince', 'stunt', 'full', 'solutions', 'critics', 'retweeted', 'term', 'export', 'swank', 'nowhere', 'responsible', 'pulling', 'interview', 'waste', 'vegas', 'casting', 'less', 'medicine', 'lab', 'exercise', 'towels', 'queer', 'conned', 'h', 'living', 'nccj', 'meta', 'mean', 'confirmed', 'n', 'experiencing', 'equipment', 'investments', 'matthew', 'loyalty', 'gaps', 'probably', 'games', 'tried', 'emerald', 'age', 'expansive', 'jimwho', 'remains', 'desk', 'hopped', 'gloves', 'questions', 'leave', 'zero', 'emerging', 'dispute', 'aaron', 'plans', 'mexico', 'marketing', 'shooter', 'posters', 'thats', 'magary', 'anti', 'extended', 'complicated', 'chu', 'haul', 'boredom', 'severely', 'freaking', 'thursday', 'eventually', 'eternal', 'staff', 'cctv', 'te', 'theories', 'weeks', 'updates', 'lawsuit', 'glamorous', 'ifixit', 'features', 'online', 'fda', 'groups', 'packages', 'partys', 'cared', 'price', 'sphere', 'worry', 'prime', 'alreadytaken', 'crash', 'bump', 'stark', 'prod', 'skits', 'therapy', 'dozen', 'action', 'essential', 'kick', 'companies', 'approach', 'matter', 'imagining', 'coping', 'wild', 'preoccupied', 'nearest', 'sprinkled', 'leading', 'looming', 'electronics', 'armas', 'c', 'frontrunner', 'span', 'smithsonian', 'plug', 'hoarders', 'art', 'differences', 'served', 'feminist', 'hand', 'alter', 'laughs', 'graves', 'led', 'voynovskaya', 'amnesia', 'polled', 'press', 'doesnt', 'anxious', 'map', 'spam', 'museum', 'isolation', 'dip', 'mannered', 'presidential', 'harder', 'archives', 'squirm', 'prices', 'legislation', 'fever', 'season', 'southern', 'quite', 'tunneled', 'rooms', 'tweeted', 'aware', 'antarctica', 'racist', 'never', 'scrambling', 'popularizedand', 'ago', 'condition', 'big', 'help', 'fuel', 'riots', 'mercedes', 'broke', 'hist', 'gaming', 'threaten', 'angelo', 'kuntz', 'peoples', 'relief', 'extinct', 'eye', 'things', 'dr', 'shutting', 'white', 'psychothe', 'faces', 'ridership', 'minnesota', 'wong', 'personally', 'heads', 'foods', 'ben', 'may', 'rate', 'turmoil', 'treat', 'sudden', 'pursued', 'surge', 'worrying', 'de', 'dissuade', 'tightened', 'handled', 'looks', 'disorder', 'semi', 'suddenly', 'filibuster', 'first', 'statement', 'anticipated', 'components', 'abductions', 'outweigh', 'sued', 'dictators', 'combing', 'publication', 'modeling', 'producer', 'flank', 'favors', 'july', 'weeklyhas', 'ambitious', 'tirelessly', 'democrats', 'breast', 'protective', 'deathcare', 'products', 'bodies', 'cucuta', 'grand', 'room', 'continent', 'sole', 'clamor', 'quadruple', 'del', 'release', 'darkness', 'repair', 'wanted', 'gutter', 'expand', 'victory', 'nine', 'coalition', 'owning', 'drug', 'fifth', 'kicked', 'prepare', 'machine', 'nancy', 'purely', 'piracy', 'restricted', 'internet', 'operating', 'conscious', 'inform', 'ira', 'atlantic', 'archaeologists', 'lindbergh', 'battles', 'boyfriend', 'magazine', 'anatolia', 'worlds', 'manhattan', 'speaks', 'aa', 'anything', 'sister', 'start', 'sick', 'preventing', 'guidance', 'era', 'operatives', 'messages', 'fourth', 'box', 'coronavir', 'chinese', 'musk', 'shakes', 'spreading', 'grapples', 'researchers', 'stu', 'fourteen', 'creature', 'deployed', 'vaccinations', 'cassandra', 'reaching', 'officially', 'serious', 'threat', 'making', 'millions', 'equipping', 'prefer', 'resisting', 'absence', 'use', 'upscale', 'france', 'revealing', 'yeahthough', 'plastic', 'plot', 'cartel', 'chemic', 'moved', 'fled', 'pieces', 'center', 'purell', 'responded', 'screwed', 'recognition', 'masks', 'stanford', 'calmly', 'falls', 'housewife', 'space', 'produce', 'customs', 'scientists', 'consumer', 'dumbest', 'maj', 'shower', 'shaky', 'avoiding', 'corona', 'club', 'politicians', 'artists', 'focused', 'respiratory', 'mount', 'tally', 'proble', 'ranked', 'pyrotechnics', 'worried', 'fixers', 'tung', 'uncertainty', 'services', 'weekends', 'schools', 'noisy', 'decree', 'blackout', 'federal', 'care', 'death', 'verging', 'consistency', 'driven', 'views', 'relationships', 'officials', 'question', 'tweets', 'hungary', 'yells', 'town', 'enable', 'uninterrupted', 'grammys', 'tells', 'premise', 'poisoning', 'military', 'produced', 'prisons', 'conviction', 'romantic', 'delivery', 'news', 'sanitizer', 'hospitals', 'saying', 'promising', 'wayson', 'level', 'sourced', 'exposing', 'look', 'wholesale', 'harvard', 'novel', 'smelter', 'mammoth', 'despots', 'spring', 'knew', 'frequentand', 'onward', 'mad', 'geniuses', 'plan', 'setting', 'ignored', 'students', 'simple', 'houston', 'inspired', 'bacteria', 'shelter', 'el', 'agents', 'verbatim', 'expens', 'beach', 'hours', 'album', 'jabroni', 'escalating', 'songs', 'ancient', 'forceful', 'mounts', 'halt', 'opinionrich', 'psychedelics', 'gulag', 'often', 'f', 'booming', 'blanc', 'details', 'think', 'teammate', 'zone', 'mls', 'gouging', 'overnight', 'ice', 'prospect', 'runner', 'plumbing', 'refugees', 'diet', 'exposed', 'politicized', 'fu', 'claiming', 'concentration', 'uzi', 'supercomputing', 'service', 'celebrating', 'techno', 'another', 'number', 'limestone', 'account', 'away', 'especially', 'view', 'withering', 'juventus', 'hourmoving', 'countrys', 'due', 'dating', 'devastating', 'breakups', 'ministry', 'lately', 'sentimentality', 'gatherings', 'disaster', 'methamphetamine', 'used', 'instances', 'award', 'granblue', 'ill', 'ammonia', 'hitting', 'chef', 'bigger', 'whose', 'vietnamese', 'many', 'frictional', 'slam', 'bands', 'butt', 'rule', 'rights', 'kehlani', 'chen', 'improve', 'victor', 'teased', 'merch', 'bottled', 'league', 'aid', 'inmates', 'laid', 'leaders', 'facing', 'say', 'compilation', 'droves', 'abstinence', 'herbal', 'protagonist', 'supreme', 'cuomo', 'circular', 'fewer', 'misinformation', 'immediately', 'animals', 'monochrome', 'chops', 'athletes', 'california', 'bear', 'caused', 'identities', 'founding', 'past', 'sending', 'homepage', 'food', 'giving', 'brazil', 'affleck', 'theaters', 'alabama', 'move', 'fear', 'pat', 'official', 'ground', 'alex', 'else', 'elderly', 'independent', 'robert', 'dark', 'loves', 'accelerationists', 'suspended', 'clinical', 'proof', 'promised', 'television', 'band', 'explosion', 'might', 'back', 'indication', 'flattening', 'fears', 'secretary', 'shutdown', 'gr', 'ow', 'environmental', 'pictures', 'february', 'frances', 'opioid', 'alive', 'unsuccessfully', 'personal', 'east', 'sequel', 'revenue', 'melissa', 'eve', 'chick', 'healthcare', 'horror', 'pepsi', 'ordered', 'silver', 'begins', 'subway', 'would', 'parking', 'satellite', 'cookbook', 'screaming', 'allows', 'popular', 'mainly', 'becoming', 'outbreak', 'logical', 'smarter', 'unionize', 'workers', 'flatten', 'doj', 'fines', 'defend', 'whatsapp', 'experiences', 'movies', 'flagrantly', 'properties', 'complaint', 'fiction', 'taking', 'production', 'lungs', 'ventilator', 'mexican', 'increase', 'manager', 'trends', 'vax', 'sensitive', 'tested', 'digits', 'steps', 'close', 'bunch', 'whoops', 'throughout', 'welp', 'alcoholics', 'isela', 'subscribe', 'practice', 'business', 'undocumented', 'notorious', 'messy', 'gathered', 'soul', 'delegate', 'killing', 'mike', 'nights', 'cannabis', 'postponed', 'transportation', 'davidson', 'towns', 'bones', 'kids', 'recent', 'getting', 'waited', 'republicans', 'resorted', 'cumbia', 'flu', 'tiktok', 'changer', 'americans', 'private', 'items', 'sexy', 'profile', 'shottatexts', 'lil', 'terms', 'excited', 'sanchez', 'afford', 'childcare', 'ph', 'spouses', 'hang', 'handling', 'atlanta', 'communications', 'escalate', 'extract', 'candidate', 'collection', 'pleading', 'alabamas', 'tour', 'housing', 'vendors', 'across', 'employees', 'accurate', 'reads', 'aimed', 'fringe', 'tail', 'tours', 'sufficient', 'hats', 'hi', 'camp', 'calling', 'interviewing', 'factory', 'boys', 'saved', 'billion', 'corner', 'soldier', 'always', 'authorities', 'blaze', 'wildest', 'bill', 'per', 'ok', 'anyway', 'monday', 'liga', 'extensive', 'lockdown', 'psa', 'edition', 'pm', 'amp', 'distancing', 'supported', 'locations', 'violence', 'motherboard', 'straightforward', 'wade', 'released', 'policy', 'canadian', 'fighting', 'accidentally', 'minutes', 'vulnerable', 'mass', 'fights', 'jail', 'literally', 'artifacts', 'nhl', 'cheese', 'presentno', 'contact', 'fortune', 'breathe', 'housecleaner', 'spain', 'fired', 'made', 'make', 'market', 'mild', 'ways', 'temporarily', 'makeshift', 'borderless', 'putin', 'fund', 'downloading', 'fursona', 'inside', 'experts', 'inches', 'endpoi', 'th', 'come', 'supporting', 'navy', 'person', 'motel', 'toward', 'bonjour', 'imm', 'enforce', 'stationed', 'world', 'wrong', 'wear', 'stocking', 'obama', 'john', 'abandoning', 'happened', 'cleaners', 'famous', 'toon', 'prepared', 'grades', 'teams', 'broken', 'dutch', 'headed', 'julian', 'girlfriend', 'holes', 'insp', 'print', 'part', 'surrounded', 'wants', 'conference', 'interviews', 'continued', 'species', 'curve', 'accommodate', 'heat', 'omits', 'physician', 'peruse', 'chemicals', 'festival', 'concerts', 'justin', 'media', 'yes', 'wooing', 'abortion', 'lowe', 'queerness', 'course', 'player', 'admit', 'campuses', 'rates', 'immigration', 'michigan', 'significant', 'theorists', 'anyone', 'anomalies', 'emotional', 'riff', 'studying', 'maia', 'moment', 'infected', 'book', 'last', 'emptied', 'governments', 'mottos', 'chichihualco', 'massive', 'middle', 'tasked', 'ahead', 'marriages', 'paris', 'isis', 'organizers', 'industry', 'meet', 'twin', 'sweeps', 'accent', 'americas', 'refusing', 'identical', 'xi', 'heavy', 'hideaway', 'deaths', 'entirely', 'jonah', 'ufos', 'important', 'janet', 'writing', 'las', 'solo', 'entertainers', 'dna', 'figures', 'disco', 'kong', 'developed', 'providing', 'pulled', 'medical', 'arranged', 'colds', 'backup', 'bank', 'spending', 'raise', 'tear', 'banjo', 'die', 'touts', 'light', 'basic', 'icon', 'beginning', 'tia', 'makeup', 'governors', 'host', 'ban', 'hopes', 'occasion', 'challenges', 'ramped', 'prote', 'fox', 'epicenter', 'busy', 'year', 'january', 'harvey', 'years', 'boiled', 'woke', 'springs', 'joint', 'music', 'gov', 'weirder', 'win', 'streets', 'scattered', 'bernie', 'theater', 'seattles', 'drugs', 'country', 'originated', 'hit', 'drinks', 'stringy', 'musician', 'standalone', 'trump', 'locally', 'vast', 'harry', 'congress', 'report', 'sp', 'amid', 'hotels', 'epidemic', 'bars', 'powerful', 'planned', 'considers', 'send', 'dive', 'foot', 'impacted', 'refused', 'moderation', 'stations', 'mirabella', 'hanks', 'infowars', 'hopefully', 'diagnostics', 'natto', 'midday', 'fdr', 'taken', 'li', 'descent', 'meditation', 'bioweapon', 'ocean', 'hailed', 'information', 'flooding', 'shacks', 'toolweaponsand', 'wary', 'shuffle', 'aliens', 'knows', 'originating', 'cancelling', 'slathering', 'montagnes', 'basics', 'increasingly', 'indie', 'sunday', 'agree', 'pa', 'place', 'suit', 'need', 'rose', 'iranian', 'infinity', 'whatever', 'theyve', 'act', 'partnered', 'session', 'kind', 'disney', 'closed', 'court', 'observed', 'support', 'reach', 'surprising', 'mall', 'genes', 'wherever', 'tesla', 'sa', 'weird', 'fantasy', 'heres', 'better', 'criticism', 'research', 'uncertain', 'hasnt', 'anxiouschances', 'young', 'sadistic', 'kingdom', 'erupted', 'painkillers', 'fram', 'germaphobe', 'mammoths', 'complexity', 'cold', 'wife', 'starting', 'dangerous', 'twitter', 'keeping', 'spreads', 'mess', 'order', 'towards', 'colleges', 'co', 'scare', 'dc', 'advanced', 'louisiana', 'specifics', 'museums', 'panic', 'screamed', 'staggering', 'mouth', 'high', 'main', 'immigrants', 'ncaa', 'mysterious', 'inslee', 'captured', 'chaos', 'contraction', 'drew', 'buying', 'pence', 'reported', 'countries', 'annual', 'milestone', 'timeswrote', 'crowds', 'put', 'grou', 'vietnam', 'called', 'proposed', 'bilaterian', 'bring', 'terrifyingly', 'real', 'looking', 'rebuying', 'side', 'populations', 'encounter', 'boggles', 'surprise', 'holidays', 'miles', 'reproductive', 'walk', 'enforced', 'tina', 'frenzy', 'fo', 'affecting', 'unable', 'northern', 'involving', 'create', 'stuck', 'jutting', 'thing', 'laugh', 'anthon', 'yorks', 'advantage', 'accounting', 'definition', 'nazis', 'protect', 'unclear', 'men', 'ravaging', 'danger', 'canadas', 'six', 'hundreds', 'viable', 'extende', 'china', 'narratives', 'actually', 'kary', 'wuhan', 'soar', 'force', 'definitive', 'debate', 'generation', 'described', 'method', 'cons', 'continue', 'speculatingor', 'prescriptions', 'nation', 'medicare', 'anthony', 'soon', 'players', 'instruction', 'obtaining', 'crystal', 'understand', 'hospitalization', 'friend', 'conveniently', 'evil', 'supports', 'ye', 'sig', 'uncovered', 'socializing', 'maybe', 'tedium', 'neighbor', 'id', 'books', 'pick', 'disbelief', 'cool', 'boston', 'using', 'sufficiency', 'fentanyl', 'much', 'carolina', 'frayi', 'easy', 'lurking', 'rural', 'whos', 'lunch', 'legal', 'camped', 'terrible', 'starts', 'diplomatic', 'internationally', 'ominous', 'colombia', 'interest', 'grandma', 'wrecking', 'gizmodo', 'warning', 'energetically', 'crystals', 'race', 'great', 'decided', 'together', 'roommates', 'society', 'stacked', 'small', 'virologist', 'lap', 'victims', 'jia', 'effort', 'waifus', 'privacy', 'visible', 'door', 'truly', 'cough', 'particular', 'psychedelic', 'ridiculous', 'colleagues', 'florida', 'restaurants', 'punk', 'technological', 'week', 'campaigns', 'separate', 'exactly', 'evergreen', 'households', 'unhoused', 'workplace', 'stripped', 'gay', 'microgrid', 'best', 'bushfires', 'prattdaddy', 'ehrenreich', 'fevers', 'famed', 'director', 'hospital', 'ronaldo', 'unfashionable', 'bailout', 'someone', 'bringing', 'cross', 'wayne', 'spread', 'feels', 'swarming', 'effect', 'swiftly', 'careers', 'slowly', 'please', 'traffic', 'master', 'discussing', 'picked', 'upend', 'let', 'response', 'messier', 'column', 'dead', 'faircloth', 'leap', 'lawmakers', 'cut', 'disrupted', 'washington', 'exploded', 'stone', 'pax', 'gets', 'require', 'closer', 'fraught', 'strongmen', 'centers', 'recycling', 'dropped', 'heian', 'related', 'quarter', 'keep', 'sanitizing', 'myers', 'issues', 'bobble', 'way', 'warehouse', 'outcomes', 'single', 'happening', 'parts', 'respect', 'grown', 'take', 'facilities', 'exa', 'soy', 'happens', 'article', 'meg', 'war', 'meaning', 'told', 'closure', 'cancer', 'wipes', 'aspiring', 'pack', 'standard', 'pete', 'roommate', 'cpac', 'movement', 'republican', 'still', 'lost', 'coughs', 'violent', 'answered', 'forming', 'also', 'protesters', 'hbo', 'members', 'phenomenon', 'wealthy', 'cases', 'march', 'batch', 'far', 'humans', 'capability', 'author', 'struggling', 'endlessly', 'putting', 'ability', 'technologies', 'mind', 'body', 'coworkers', 'migrants', 'journalist', 'developers', 'call', 'stopped', 'landmark', 'going', 'face', 'disinformation', 'upset', 'grubbiest', 'rationally', 'constantly', 'injecting', 'turned', 'alternate', 'crazy', 'touching', 'complete', 'united', 'beat', 'clouds', 'symmetry', 'cans', 'lower', 'winning', 'researching', 'buried', 'version', 'spent', 'months', 'namesake', 'proving', 'azar', 'got', 'early', 'circle', 'seemingly', 'rapid', 'removing', 'steer', 'trying', 'danced', 'acces', 'misunderstanding', 'struggled', 'joe', 'costume', 'compromises', 'miss', 'area', 'opinion', 'pay', 'arguing', 'liberation', 'legends', 'cure', 'correlation', 'temporary', 'celebrities', 'buttigieg', 'convenient', 'happen', 'thee', 'solace', 'treatment', 'worker', 'italys', 'chance', 'emailing', 'reddish', 'located', 'wouldnt', 'ultrasounds', 'supporters', 'find', 'days', 'seedy', 'catchy', 'postponing', 'effective', 'venue', 'meme', 'distractions', 'everywhere', 'ai', 'two', 'stadiums', 'leagues', 'rest', 'residents', 'total', 'stability', 'extremists', 'proliferating', 'lockdowns', 'hell', 'groce', 'mule', 'previous', 'nazi', 'old', 'amount', 'reason', 'choice', 'spiked', 'coronavirus', 'appears', 'update', 'gripped', 'reveals', 'late', 'central', 'ranking', 'importing', 'talked', 'tax', 'collapse', 'funding', 'protests', 'speech', 'finally', 'cecelia', 'stallion', 'try', 'congressional', 'onvice', 'tweeting', 'encouraging', 'tiktokers', 'died', 'mistake', 'vape', 'computers', 'lying', 'power', 'biased', 'cameras', 'pointlessly', 'boggling', 'day', 'vs', 'staffers', 'show', 'grande', 'r', 'stocks', 'kidding', 'leaving', 'asia', 'labels', 'backe', 'decision', 'sign', 'districts', 'indeed', 'police', 'already', 'security', 'morning', 'vert', 'encampment', 'expert', 'office', 'vacation', 'helping', 'listing', 'w', 'eight', 'except', 'la', 'elsewhere', 'lack', 'cdc', 'elif', 'cancellations', 'davidsons', 'least', 'mid', 'streaming', 'value', 'equally', 'wont', 'rules', 'social', 'controversial', 'according', 'ship', 'lauding', 'sioux', 'tuesday', 'five', 'noah', 'presidents', 'breakthrough', 'conferences', 'authoritarian', 'hide', 'latest', 'fish', 'furious', 'ba', 'finding', 'pills', 'woman', 'trio', 'institutions', 'al', 'hilary', 'wash', 'dedicated', 'tab', 'images', 'yard', 'contracting', 'toll', 'wrapped', 'check', 'clues', 'health', 'faster', 'statewide', 'found', 'dakota', 'declared', 'bateh', 'iran', 'arc', 'oceans', 'scene', 'common', 'australia', 'crush', 'fence', 'atake', 'given', 'student', 'weed', 'population', 'funded', 'st', 'unabashed', 'oil', 'uksupplies', 'held', 'includes', 'yakima', 'lot', 'one', 'los', 'medium', 'royale', 'paperwork', 'accessible', 'disruptions', 'seven', 'reopen', 'pie', 'task', 'fierce', 'fresh', 'hunters', 'stumble', 'applying', 'unsure', 'tell', 'cuts', 'georgia', 'slowing', 'sherwin', 'tiktoks', 'foreseeable', 'revenge', 'bills', 'patience', 'typically', 'peak', 'likely', 'entire', 'trend', 'cheats', 'even', 'words', 'member', 'wait', 'bangers', 'jewelry', 'said', 'recorded', 'play', 'superintelligent', 'weirdest', 'hard', 'email', 'property', 'flick', 'tougher', 'tips', 'went', 'flashy', 'adults', 'b', 'unexpectedly', 'releases', 'imperiled', 'franklin', 'eleven', 'cartels', 'showcasing', 'large', 'fact', 'bustling', 'eerily', 'thousands', 'sure', 'worked', 'represented', 'miniseries', 'state', 'coke', 'polls', 'pits', 'save', 'case', 'file', 'desert', 'childcar', 'gin', 'methadone', 'earth', 'declare', 'shrooms', 'reid', 'overwhelmed', 'olympics', 'turkey', 'explain', 'form', 'bout', 'kirkland', 'answer', 'money', 'dog', 'cast', 'free', 'entertaining', 'harbor', 'south', 'long', 'celebrates', 'takes', 'sarah', 'dish', 'mississippi', 'gallup', 'bet', 'punchline', 'everyday', 'viral', 'strains', 'regulars', 'kentucky', 'ad', 'collected', 'shops', 'warzone', 'clear', 'trans', 'diagnostic', 'systems', 'covi', 'realtime', 'frequent', 'life', 'notoriously', 'rehab', 'worst', 'excuse', 'voyeur', 'floor', 'jfk', 'website', 'little', 'asuka', 'vaccine', 'lining', 'beijing', 'wondering', 'concert', 'job', 'pandemics', 'text', 'plays', 'forties', 'megan', 'governor', 'recalled', 'libs', 'hampering', 'point', 'twice', 'resell', 'felt', 'extremely', 'progress', 'resources', 'gas', 'impossible', 'dietary', 'peele', 'cancel', 'published', 'daughter', 'lysol', 'huyler', 'largest', 'ordering', 'paper', 'telling', 'instructed', 'parody', 'temperature', 'jam', 'dying', 'trickling', 'former', 'balls', 'arrondissement', 'manuals', 'crack', 'carrere', 'army', 'dogs', 'tolentino', 'suga', 'caution', 'horny', 'tons', 'whi', 'practicing', 'eerie', 'candidacies', 'smoke', 'fun', 'k', 'everyone', 'im', 'toe', 'evidence', 'however', 'seattle', 'surroundings', 'party', 'patients', 'innovative', 'popularly', 'rich', 'capitalize', 'delhi', 'junctures', 'brink', 'rita', 'impending', 'fetishists', 'universe', 'dealer', 'something', 'reacted', 'sources', 'integrated', 'twins', 'perfect', 'netflix', 'problematic', 'store', 'argument', 'public', 'access', 'lisandro', 'kilo', 'san', 'among', 'turning', 'gastrointestinal', 'drinking', 'ready', 'evening', 'looting', 'bellagio', 'charges', 'metal', 'technical', 'actress', 'isolate', 'refrigerators', 'harsh', 'cancelled', 'soccer', 'william', 'capable', 'closing', 'dispatch', 'dank', 'comes', 'pave', 'connections', 'capsule', 'rarefied', 'gutted', 'special', 'responding', 'gregoire', 'inevitable', 'insisting', 'stupidity', 'obtained', 'vaxxers', 'ventilators', 'guard', 'libraries', 'chorus', 'depot', 'deal', 'ruling', 'moderate', 'ontario', 'appeal', 'copper', 'scared', 'ball', 'memory', 'pre', 'endured', 'growing', 'joining', 'control', 'cougars', 'arlington', 'besides', 'bragged', 'tossed', 'black', 'wednesday', 'flying', 'aspects', 'school', 'shelves', 'economy', 'deadly', 'bumped', 'promotion', 'agency', 'fotografiska', 'worm', 'front', 'fire', 'festivals', 'recyclability', 'poker', 'topic', 'simply', 'elon', 'works', 'despite', 'certainly', 'canned', 'crowdsourcing', 'nearly', 'creation', 'wildly', 'impact', 'venezuela', 'deeply', 'continues', 'slap', 'brown', 'forefront', 'spaces', 'clunky', 'killings', 'type', 'unlimited', 'figure', 'interstellar', 'surgical', 'vote', 'rarely', 'converted', 'board', 'shelters', 'plaintiff', 'investing', 'conspiracy', 'knowledge', 'announce', 'communities', 'incredible', 'rise', 'facetime', 'classic', 'dissatisfied', 'yet', 'really', 'invisible', 'work', 'realized', 'forced', 'cities', 'oliver', 'system', 'shook', 'remote', 'night', 'tue', 'spoke', 'sent', 'airport', 'precauti', 'film', 'andrew', 'dozens', 'hour', 'plain', 'representatives', 'mayo', 'opportunity', 'szalavitz', 'professionals', 'advertising', 'insulates', 'second', 'rape', 'attempt', 'determine', 'recently', 'york', 'retailers', 'polling', 'exploding', 'hulu', 'involved', 'benatar', 'exposes', 'funds', 'later', 'amounts', 'hot', 'detain', 'mrsa', 'laws', 'rocked', 'live', 'gifs', 'guy', 'alongside', 'scoffing', 'silence', 'slight', 'managers', 'started', 'dessert', 'veronica', 'read', 'give', 'luminous', 'america', 'bilateral', 'difficult', 'positions', 'cousin', 'working', 'trudeau', 'half', 'man', 'lest', 'positive', 'shipped', 'american', 'labs', 'photography', 'retailer', 'colloquially', 'doctors', 'shows', 'deserves', 'since', 'virus', 'sharing', 'toilet', 'received', 'strong', 'virginia', 'adding', 'jinping', 'racism', 'vehicles', 'several', 'conversation', 'demand', 'comics', 'changed', 'giants', 'faith', 'venezuelan', 'arrest', 'poor', 'accountable', 'polluters', 'belongings', 'murder', 'bad', 'says', 'habits', 'everything', 'boring', 'urge', 'rushing', 'red', 'er', 'lived', 'times', 'commonly', 'unimaginably', 'daily', 'stores', 'malaria', 'reflection', 'husband', 'intelligence', 'abortions', 'gathering', 'current', 'wariootia', 'fan', 'vladimir', 'college', 'spanish', 'nuclear', 'antiviral', 'tennessee', 'dens', 'shot', 'without', 'remotely', 'u', 'dissects', 'university', 'banned', 'longer', 'horrible', 'escaped', 'washing', 'photos', 'allied', 'seeing', 'concepts', 'event', 'name', 'saturday', 'memo', 'garcia', 'picture', 'redfield', 'career', 'manufacturing', 'weinstein', 'individual', 'advancement', 'welcome', 'artificial', 'mandatory', 'general', 'comedian', 'edge', 'unfortunate', 'villains', 'appeared', 'disrupt', 'storm', 'coli', 'bloggerinas', 'chat', 'accepting', 'resorts', 'davis', 'mental', 'moving', 'canceled', 'group', 'sessions', 'potency', 'differen', 'leaves', 'issued', 'effectiveness', 'organize', 'click', 'looked', 'willing', 'collect', 'wo', 'wandering', 'contract', 'snap', 'well', 'turn', 'history', 'campania', 'express', 'russian', 'photographers', 'phone', 'along', 'push', 'visions', 'process', 'sza', 'serie', 'v', 'stay', 'struck', 'pup', 'bay', 'good', 'supposed', 'ex', 'returns', 'clerics', 'titled', 'cosmic', 'specifically', 'airports', 'artist', 'august', 'location', 'unsurprisingly', 'altered', 'customers', 'abstraction', 'legendary', 'coalesced', 'estimated', 'sundays', 'universities', 'thanks', 'decentralized', 'honestly', 'authoritative', 'norovirus', 'snohomish', 'girl', 'met', 'bilingual', 'ignore', 'ncov', 'repetitive', 'debut', 'ebola', 'shortages', 'handle', 'tracking', 'fi', 'istanbul', 'studio', 'future', 'dance', 'shirts', 'safe', 'browsing', 'questioned', 'hiv', 'sings', 'ghost', 'tries', 'jobs', 'sho', 'changing', 'europe', 'answers', 'seem', 'request', 'reviving', 'arenas', 'po', 'atp', 'sees', 'existence', 'crashing', 'microsoft', 'centuries', 'running', 'rapidly', 'smell', 'fascinating', 'nice', 'shut', 'silicon', 'train', 'fiancé', 'government', 'amy', 'fluid', 'begin', 'unfathomable', 'trumps', 'attention', 'pica', 'style', 'enterprising', 'pool', 'guttmacher', 'tom', 'inward', 'us', 'pink', 'stars', 'expectedhealth', 'saving', 'boxes', 'remembers', 'isolating', 'notice', 'mask', 'fill', 'search', 'playboy', 'game', 'clearview', 'building', 'causing', 'exchanges', 'flight', 'shit', 'label', 'admitted', 'minister', 'posts', 'breakfast', 'prop', 'roosevelt', 'bizarre', 'weinsteins', 'ray', 'pitching', 'ramsey', 'urgent', 'definitely', 'childhood', 'huge', 'reinforce', 'makes', 'legalized', 'lowest', 'savings', 'helped', 'targeted', 'track', 'invents', 'weight', 'globe', 'water', 'duty', 'brooklyn', 'prevention', 'geneworks', 'appear', 'virtually', 'smart', 'movie', 'chatting', 'produces', 'tearing', 'homeless', 'breaking', 'post', 'juggernaut', 'hearing', 'seems', 'advocates', 'reality', 'workplaces', 'stock', 'panicking', 'pushback', 'vice', 'attendants', 'didnt', 'staying', 'highest', 'blocked', 'surveillance', 'seize', 'borders', 'guide', 'ikaria', 'sealing', 'defeated', 'stockpile', 'customer', 'forth', 'unprepared', 'stabbing', 'sense', 'ticking', 'psychologists', 'arrived', 'dining', 'nasa', 'sinaloa', 'candidates', 'playing', 'scapegoat', 'quick', 'argued', 'safer', 'became', 'delivers', 'judges', 'relying', 'block', 'super', 'experience', 'soybean', 'ashes', 'enlightening', 'futsal', 'team', 'fellow', 'weekly', 'cathartic', 'stockpiling', 'urschel', 'commonwealth', 'took', 'management', 'settlements', 'directors', 'preppers', 'traffickers', 'shortage', 'activists', 'end', 'eating', 'fans', 'dirty', 'thinking', 'assisting', 'left', 'animal', 'usual', 'strict', 'terrified', 'bottles', 'matt', 'decentralised', 'couples', 'technology', 'irresponsible', 'science', 'coming', 'throwing', 'contracted', 'casually', 'cant', 'steady', 'wider', 'region', 'christian', 'conventions', 'law', 'pull', 'jerk', 'donald', 'restrictions', 'reagents', 'offices', 'run', 'thi', 'resetting', 'brief', 'antibacterial', 'boss', 'share', 'officers', 'want', 'chatter', 'blamed', 'evolved', 'capitalism', 'clearviews', 'serve', 'feel', 'scramble', 'molecular', 'blasted', 'baseless', 'known', 'nature', 'meals', 'reasons', 'illegal', 'bone', 'bust', 'nursing', 'knives', 'congresspeople', 'city', 'supercomputers', 'set', 'sales', 'seafloor', 'sterile', 'chain', 'funbag', 'lifetime', 'renowned', 'departments', 'shamed', 'unnecessarily', 'declaring', 'announced', 'seller', 'period', 'tokyo', 'situation', 'vectors', 'ebay', 'korea', 'rallying', 'unifying', 'desperate', 'elizabeth', 'nba', 'pilot', 'hold', 'telehealth', 'moon', 'naked', 'flee', 'correctional', 'jump', 'unionization', 'herculean', 'collective', 'coast', 'wealth', 'global', 'scheduled', 'families', 'deflect', 'shocking', 'ticket', 'fight', 'today', 'snow', 'infections', 'sell', 'deadline', 'hes', 'piece', 'jordan', 'verdict', 'doctor', 'stable', 'steppes', 'prehistoric', 'alarmed', 'swallow', 'return', 'regret', 'soaring', 'sympathizer', 'e', 'lo', 'dude', 'shuts', 'exacerbate', 'owned', 'cycle', 'morrocco', 'rising', 'fabric', 'buy', 'strip', 'gat', 'sellers', 'drove', 'warring', 'usns', 'discouraged', 'county', 'cheap', 'jets', 'remember', 'aboutinequality', 'swept', 'essays', 'beans', 'valley', 'gone', 'spoon', 'hunts', 'frank', 'time', 'botched', 'dropping', 'darlings', 'witness', 'devices', 'originally', 'available', 'supply', 'radiation', 'consortium', 'navys', 'ever', 'path', 'grows', 'ensure', 'proxies', 'instead', 'wilson', 'affects', 'handful', 'multiple', 'sport', 'virulent', 'issue', 'ariana', 'talk', 'strange', 'complications', 'bambara', 'jacking', 'imaginations', 'yale', 'finds', 'breezed', 'utterly', 'test', 'patient', 'core', 'youve', 'athens', 'ahern', 'expect', 'open', 'ask', 'buys', 'barbara', 'anonymous', 'certain', 'boycott', 'structure', 'zoo', 'justice', 'werent', 'gdc', 'roe', 'supplies', 'whenever', 'aches', 'hong', 'arguments', 'including', 'totally', 'handing', 'personality', 'events', 'isolated', 'goal', 'effectively', 'funeral', 'easily', 'rocks', 'diagnosed', 'maximize', 'youtube', 'december', 'canadaand', 'displaced', 'rather', 'dad', 'list', 'fives', 'top', 'epidemiologist', 'crisis', 'seconds', 'thei', 'mostly', 'executive', 'facility', 'interventions', 'step', 'fair', 'usher', 'entertainment', 'japanese', 'dvds', 'seen', 'symptoms', 'others', 'plenty', 'anxiety', 'lifelong', 'graduating', 'know', 'void', 'though', 'struggles', 'brookshire', 'untested', 'ended', 'data', 'objects', 'suspect', 'three', 'shop', 'preside', 'casualty', 'requires', 'gen', 'secrecy', 'short', 'friday', 'portraits', 'foil', 'wei', 'theyre', 'fad', 'burial', 'jet', 'snl', 'uk', 'cover', 'risen', 'addiction', 'undoubtedly', 'tsx', 'software', 'camera', 'cheated', 'president', 'classes', 'claims', 'momentto', 'nurses', 'shakedown', 'waive', 'gmail', 'returning', 'lasting', 'mutton', 'pass', 'vacations', 'cis', 'minds', 'every', 'whole', 'emergency', 'attendee', 'cyberpunk', 'present', 'malware', 'versus', 'oldest', 'prevent', 'romance', 'sports', 'copy', 'unless', 'z', 'increasing', 'safely', 'bored', 'blame', 'near', 'rice', 'limbo', 'angel', 'sobering', 'based', 'organizations', 'hygiene', 'battle', 'smokers', 'normal', 'mystery', 'contain', 'fatalities', 'epic', 'williams', 'fres', 'kn', 'quarantined', 'holding', 'persona', 'warren', 'youre', 'ripple', 'percent', 'undermine', 'election', 'cwa', 'messaged', 'possible', 'study', 'spot', 'cbs', 'jim', 'whether', 'booking', 'convention', 'zambada', 'scientist', 'q', 'lighting', 'texts', 'preparing', 'weekend', 'sexism', 'risk', 'tie', 'next', 'bar', 'supermarkets', 'travel', 'raising', 'italian', 'senate', 'rolling', 'elbow', 'cd', 'concern', 'tv', 'delivered', 'weve', 'local', 'saw', 'discover', 'viruses', 'model', 'amazon', 'focus', 'memes', 'go', 'alternative', 'angeles', 'shouldnt', 'change', '蘇', 'gave', 'granddaddy', 'low', 'numbers', 'learned', 'month', 'sort', 'behavior', 'mayors', 'com', 'stories', 'extent', 'kill', 'kindergarten', 'losing', 'see', 'option', 'forward', 'stove', 'must', 'straight', 'measures', 'aka', 'con', 'chose', 'responses', 'million', 'meth', 'letters', 'cultural', 'ismael', 'distance', 'flaring', 'bypass', 'flag', 'hear', 'creative', 'hey', 'conservative', 'tsuna', 'field', 'touring', 'friends', 'mandalay', 'beards', 'browse', 'threats', 'attract', 'optimal', 'arizona', 'imagine', 'head', 'medicines', 'purchased', 'bootleg', 'trip', 'ana', 'strain', 'bracing', 'become', 'generations', 'community', 'democratic', 'sounding', 'could', 'texas', 'nations', 'concerns', 'fractured', 'sheltering', 'regarded', 'hands', 'qualifies', 'prompted', 'almost', 'count', 'coronaviruses', 'stints', 'universal', 'bigham', 'wave', 'curbing', 'hoping', 'message', 'covid', 'unionized', 'slow', 'heidelbaum', 'manufacture', 'citys', 'dummies', 'biden', 'liquor', 'brains', 'simpsons', 'fauci', 'comfort', 'home', 'mexicos', 'selling', 'deciding', 'parents', 'new', 'markets', 'nastia', 'north', 'normally', 'tests', 'behind', 'forget', 'seasons', 'michael', 'englands', 'finances', 'kits', 'anglia', 'highlight', 'believe', 'kloubchar', 'moves', 'respirators', 'detected', 'financial', 'joel', 'instance', 'around', 'discordant', 'filmmaker', 'expecting', 'dealers', 'west', 'empathy', 'meetings', 'critical', 'unlike', 'gigantic', 'terrifying', 'presiding', 'sniping', 'opposite', 'lead', 'podcasts', 'sanders', 'sunnybrook', 'worse', 'alarming', 'people', 'ceo', 'iraq', 'wire', 'promise', 'destroy', 'primary', 'beneath', 'attacks', 'favorite', 'arent', 'airlines', 'amazing', 'century', 'ideas', 'gearing', 'inbox', 'musicians', 'akyuz', 'trafficker', 'october', 'lets', 'returned', 'clogging', 'panopticon', 'perilous', 'sophie', 'visited', 'afraid', 'costco', 'stop', 'nora', 'founded', 'ha', 'states', 'gyms', 'permission', 'germany', 'join', 'avoid', 'users', 'class', 'premonitions', 'cleaning', 'revolutionary', 'owner', 'self', 'currently', 'modern', 'hilarious', 'talking', 'border', 'touch', 'places'}\n"
     ]
    }
   ],
   "source": [
    "# function that creates set of unique words for each source\n",
    "\n",
    "def unique_by_source(series):\n",
    "    lst =[]\n",
    "    for i in series[0]:\n",
    "        lst.extend(i)\n",
    "    new_set = set(lst)\n",
    "    return new_set\n",
    "\n",
    "# right\n",
    "unique_breitbart_words = unique_by_source(breitbart_words)\n",
    "unique_fox_words = unique_by_source(fox_words)\n",
    "unique_natReview_words = unique_by_source(natReview_words)\n",
    "\n",
    "# middle\n",
    "unique_cbs_words = unique_by_source(cbs_words)\n",
    "unique_reuters_words = unique_by_source(reuters_words)\n",
    "unique_hill_words = unique_by_source(hill_words)\n",
    "\n",
    "# left\n",
    "unique_buzzfeed_words = unique_by_source(buzzfeed_words)\n",
    "unique_msnbc_words = unique_by_source(msnbc_words)\n",
    "unique_vice_words = unique_by_source(vice_words)\n",
    "print(unique_vice_words)"
   ]
  }
 ],
 "metadata": {
  "colab": {
   "collapsed_sections": [],
   "name": "NewsAPI.ipynb",
   "provenance": []
  },
  "kernelspec": {
   "display_name": "Python 3",
   "language": "python",
   "name": "python3"
  },
  "language_info": {
   "codemirror_mode": {
    "name": "ipython",
    "version": 3
   },
   "file_extension": ".py",
   "mimetype": "text/x-python",
   "name": "python",
   "nbconvert_exporter": "python",
   "pygments_lexer": "ipython3",
   "version": "3.7.4"
  }
 },
 "nbformat": 4,
 "nbformat_minor": 1
}
